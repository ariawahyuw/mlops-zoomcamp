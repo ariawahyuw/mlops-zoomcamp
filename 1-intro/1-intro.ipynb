{
 "cells": [
  {
   "cell_type": "code",
   "execution_count": 1,
   "id": "4a591a6a",
   "metadata": {},
   "outputs": [],
   "source": [
    "import pandas as pd\n",
    "from sklearn.feature_extraction import DictVectorizer\n",
    "from sklearn.linear_model import LinearRegression\n",
    "from sklearn.metrics import root_mean_squared_error"
   ]
  },
  {
   "cell_type": "code",
   "execution_count": 2,
   "id": "df937896",
   "metadata": {},
   "outputs": [
    {
     "name": "stdout",
     "output_type": "stream",
     "text": [
      "Number of columns: 19\n",
      "Columns:\n",
      "- VendorID\n",
      "- tpep_pickup_datetime\n",
      "- tpep_dropoff_datetime\n",
      "- passenger_count\n",
      "- trip_distance\n",
      "- RatecodeID\n",
      "- store_and_fwd_flag\n",
      "- PULocationID\n",
      "- DOLocationID\n",
      "- payment_type\n",
      "- fare_amount\n",
      "- extra\n",
      "- mta_tax\n",
      "- tip_amount\n",
      "- tolls_amount\n",
      "- improvement_surcharge\n",
      "- total_amount\n",
      "- congestion_surcharge\n",
      "- airport_fee\n"
     ]
    }
   ],
   "source": [
    "df = pd.read_parquet('./datasets/yellow_tripdata_2023-01.parquet')\n",
    "prev_row_counts = df.shape[0]\n",
    "\n",
    "print(\"Number of columns:\", df.columns.shape[0])\n",
    "print(\"Columns:\", *list(\"- \" + df.columns), sep=\"\\n\")"
   ]
  },
  {
   "cell_type": "code",
   "execution_count": 3,
   "id": "94c91b65",
   "metadata": {},
   "outputs": [
    {
     "name": "stdout",
     "output_type": "stream",
     "text": [
      "Standard deviation: 42.59\n",
      "Outlier fraction: 98%\n"
     ]
    }
   ],
   "source": [
    "df['duration'] = (df['tpep_dropoff_datetime'] - df['tpep_pickup_datetime']).dt.total_seconds() / 60\n",
    "print(f\"Standard deviation: {df['duration'].std():.2f}\")\n",
    "\n",
    "df = df[(df['duration'] >= 1) & (df['duration'] <= 60)]\n",
    "cleaned_pct = df.shape[0] / prev_row_counts\n",
    "print(f\"Outlier fraction: {cleaned_pct:1.0%}\")"
   ]
  },
  {
   "cell_type": "code",
   "execution_count": 4,
   "id": "cc621792",
   "metadata": {},
   "outputs": [],
   "source": [
    "def read_dataframe(filename):\n",
    "    df = pd.read_parquet(filename)\n",
    "    df['duration'] = (df['tpep_dropoff_datetime'] - df['tpep_pickup_datetime']).dt.total_seconds() / 60\n",
    "    df = df[(df['duration'] >= 1) & (df['duration'] <= 60)]\n",
    "    categorical = ['PULocationID', 'DOLocationID']\n",
    "    df[categorical] = df[categorical].astype(str)\n",
    "    return df\n",
    "\n",
    "df_train = read_dataframe('./datasets/yellow_tripdata_2023-01.parquet')\n",
    "df_val = read_dataframe('./datasets/yellow_tripdata_2023-02.parquet')"
   ]
  },
  {
   "cell_type": "code",
   "execution_count": 5,
   "id": "2a8f4781",
   "metadata": {},
   "outputs": [],
   "source": [
    "categorical = ['PULocationID', 'DOLocationID']\n",
    "train_dicts = df_train[categorical].to_dict(orient='records')\n",
    "val_dicts = df_val[categorical].to_dict(orient='records')\n",
    "dv = DictVectorizer()\n",
    "X_train = dv.fit_transform(train_dicts)\n",
    "X_val = dv.transform(val_dicts)"
   ]
  },
  {
   "cell_type": "code",
   "execution_count": 6,
   "id": "04dcf172",
   "metadata": {},
   "outputs": [
    {
     "name": "stdout",
     "output_type": "stream",
     "text": [
      "Encoded matrix dimensionality: 515\n"
     ]
    }
   ],
   "source": [
    "print(\"Encoded matrix dimensionality:\", X_train.shape[1])"
   ]
  },
  {
   "cell_type": "code",
   "execution_count": 7,
   "id": "7348f49c",
   "metadata": {},
   "outputs": [],
   "source": [
    "target = 'duration'\n",
    "y_train = df_train[target].values\n",
    "y_val = df_val[target].values"
   ]
  },
  {
   "cell_type": "code",
   "execution_count": 8,
   "id": "9c93a231",
   "metadata": {},
   "outputs": [
    {
     "name": "stdout",
     "output_type": "stream",
     "text": [
      "RMSE train: 7.65\n",
      "RMSE validation: 7.81\n"
     ]
    }
   ],
   "source": [
    "lr = LinearRegression()\n",
    "lr.fit(X_train, y_train)\n",
    "\n",
    "print(f\"RMSE train: {root_mean_squared_error(y_train, lr.predict(X_train)):.2f}\")\n",
    "print(f\"RMSE validation: {root_mean_squared_error(y_val, lr.predict(X_val)):.2f}\")"
   ]
  }
 ],
 "metadata": {
  "kernelspec": {
   "display_name": ".venv",
   "language": "python",
   "name": "python3"
  },
  "language_info": {
   "codemirror_mode": {
    "name": "ipython",
    "version": 3
   },
   "file_extension": ".py",
   "mimetype": "text/x-python",
   "name": "python",
   "nbconvert_exporter": "python",
   "pygments_lexer": "ipython3",
   "version": "3.12.10"
  }
 },
 "nbformat": 4,
 "nbformat_minor": 5
}
